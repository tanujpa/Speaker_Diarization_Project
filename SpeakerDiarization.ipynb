{
  "nbformat": 4,
  "nbformat_minor": 0,
  "metadata": {
    "colab": {
      "provenance": []
    },
    "kernelspec": {
      "name": "python3",
      "display_name": "Python 3"
    },
    "language_info": {
      "name": "python"
    },
    "accelerator": "GPU"
  },
  "cells": [
    {
      "cell_type": "markdown",
      "source": [
        "## Database Fetching\n"
      ],
      "metadata": {
        "id": "XI_dd5Io-9wU"
      }
    },
    {
      "cell_type": "markdown",
      "source": [
        "Library import"
      ],
      "metadata": {
        "id": "acyt7rDj_R2c"
      }
    },
    {
      "cell_type": "code",
      "source": [
        "import numpy as np\n",
        "import scipy.io.wavfile\n",
        "from scipy.fftpack import dct\n",
        "import matplotlib.pyplot as plt\n",
        "from scipy import stats\n",
        "! pip install webrtcvad\n",
        "import webrtcvad\n",
        "import collections"
      ],
      "metadata": {
        "id": "JotsYL6LFp_4",
        "colab": {
          "base_uri": "https://localhost:8080/"
        },
        "outputId": "2000d409-d695-4abf-ca7f-0d8c52b17bc1"
      },
      "execution_count": null,
      "outputs": [
        {
          "output_type": "stream",
          "name": "stdout",
          "text": [
            "Requirement already satisfied: webrtcvad in /usr/local/lib/python3.7/dist-packages (2.0.10)\n"
          ]
        }
      ]
    },
    {
      "cell_type": "markdown",
      "source": [
        "SNR"
      ],
      "metadata": {
        "id": "HMr37Rn0_XWM"
      }
    },
    {
      "cell_type": "code",
      "source": [
        "def signaltonoise(a, axis=0, ddof=0):\n",
        "    a = np.asanyarray(a)\n",
        "    m = a.mean(axis)\n",
        "    sd = a.std(axis=axis, ddof=ddof)\n",
        "    return np.where(sd == 0, 0, m/sd)"
      ],
      "metadata": {
        "id": "V1LerD6M_aCD"
      },
      "execution_count": null,
      "outputs": []
    },
    {
      "cell_type": "markdown",
      "source": [
        "Audio File Reading"
      ],
      "metadata": {
        "id": "6pyqZptd_e-a"
      }
    },
    {
      "cell_type": "code",
      "source": [
        "def read_audiofile(path):\n",
        "  sample_rate, signal = scipy.io.wavfile.read(path)\n",
        "  return sample_rate,signal\n",
        "# plt.plot(signal)"
      ],
      "metadata": {
        "id": "t5VJatbFHNep"
      },
      "execution_count": null,
      "outputs": []
    },
    {
      "cell_type": "markdown",
      "source": [
        "Pre-Emphasis"
      ],
      "metadata": {
        "id": "zaEmVeU1_kCK"
      }
    },
    {
      "cell_type": "code",
      "source": [
        "def signal_emphasis(signal):\n",
        "  pre_emphasis = 0.97\n",
        "  return  np.append(signal[0], signal[1:] - pre_emphasis * signal[:-1])\n",
        "# signaltonoise(emphasized_signal,axis=0,ddof=0)\n",
        "# emphasized_signal=signal"
      ],
      "metadata": {
        "id": "3kIsKOrUH3eR"
      },
      "execution_count": null,
      "outputs": []
    },
    {
      "cell_type": "code",
      "source": [
        "class Frame(object):\n",
        "  def __init__(self,bytes,timestamp,duration):\n",
        "    self.bytes=bytes\n",
        "    self.timestamp=timestamp\n",
        "    self.duration=duration\n",
        ""
      ],
      "metadata": {
        "id": "ZPww6TLQYZ7y"
      },
      "execution_count": null,
      "outputs": []
    },
    {
      "cell_type": "code",
      "source": [
        "def frame_generator(emphasized_signal,frame_size ,frame_stride,sample_rate):\n",
        "  frame_length, frame_step = frame_size * sample_rate, frame_stride * sample_rate  # Convert from seconds to samples\n",
        "  signal_length = len(emphasized_signal)\n",
        "  frame_length = int(round(frame_length))\n",
        "  frame_step = int(round(frame_step))\n",
        "  num_frames = int(np.ceil(float(np.abs(signal_length - frame_length)) / frame_step))  # Make sure that we have at least 1 frame\n",
        "\n",
        "  pad_signal_length = num_frames * frame_step + frame_length\n",
        "  z = np.zeros((pad_signal_length - signal_length))\n",
        "  pad_signal = np.append(emphasized_signal, z) # Pad Signal to make sure that all frames have equal number of samples without truncating any samples from the original signal\n",
        "\n",
        "  indices = np.tile(np.arange(0, frame_length), (num_frames, 1)) + np.tile(np.arange(0, num_frames * frame_step, frame_step), (frame_length, 1)).T\n",
        "  frames = pad_signal[indices.astype(np.int32, copy=False)]\n",
        "  return frames,indices\n"
      ],
      "metadata": {
        "id": "NbNXxSl6aF3A"
      },
      "execution_count": null,
      "outputs": []
    },
    {
      "cell_type": "code",
      "source": [
        "def non_speech_removal(sample_rate, vad, frames,indices):\n",
        "    # voiced_frames = []\n",
        "\n",
        "    # for frame in frames:\n",
        "    #     if vad.is_speech(frame,sample_rate):\n",
        "    #         voiced_frames.append(frame)\n",
        "\n",
        "    # return voiced_frames,indices\n",
        "    padding_duration_ms = 1000\n",
        "    frame_duration_ms = 20\n",
        "    num_padding_frames = int(padding_duration_ms / frame_duration_ms)\n",
        "    # We use a deque for our sliding window/ring buffer.\n",
        "    ring_buffer = collections.deque(maxlen=num_padding_frames)\n",
        "    # We have two states: TRIGGERED and NOTTRIGGERED. We start in the\n",
        "    # NOTTRIGGERED state.\n",
        "    triggered = False\n",
        "\n",
        "    voiced_frames = []\n",
        "    f = []\n",
        "    for frame in frames:\n",
        "        is_speech = vad.is_speech(frame, sample_rate)\n",
        "\n",
        "        # sys.stdout.write('1' if is_speech else '0')\n",
        "        if not triggered:\n",
        "            ring_buffer.append((frame, is_speech))\n",
        "            num_voiced = len([f for f, speech in ring_buffer if speech])\n",
        "            # If we're NOTTRIGGERED and more than 90% of the frames in\n",
        "            # the ring buffer are voiced frames, then enter the\n",
        "            # TRIGGERED state.\n",
        "            if num_voiced > 0.9 * ring_buffer.maxlen:\n",
        "                triggered = True\n",
        "                # sys.stdout.write('+(%s)' % (ring_buffer[0][0].timestamp,))\n",
        "                # We want to yield all the audio we see from now until\n",
        "                # we are NOTTRIGGERED, but we have to start with the\n",
        "                # audio that's already in the ring buffer.\n",
        "                for f, s in ring_buffer:\n",
        "                    voiced_frames.append(f)\n",
        "                ring_buffer.clear()\n",
        "        else:\n",
        "            # We're in the TRIGGERED state, so collect the audio data\n",
        "            # and add it to the ring buffer.\n",
        "            voiced_frames.append(frame)\n",
        "            ring_buffer.append((frame, is_speech))\n",
        "            num_unvoiced = len([f for f, speech in ring_buffer if not speech])\n",
        "            # If more than 90% of the frames in the ring buffer are\n",
        "            # unvoiced, then enter NOTTRIGGERED and yield whatever\n",
        "            # audio we've collected.\n",
        "            if num_unvoiced > 0.9 * ring_buffer.maxlen:\n",
        "                # sys.stdout.write('-(%s)' % (frame.timestamp + frame.duration))\n",
        "                triggered = False\n",
        "                yield b''.join([f for f in voiced_frames])\n",
        "                print('blah1')\n",
        "                ring_buffer.clear()\n",
        "                voiced_frames = []\n",
        "    # If we have any leftover voiced audio when we run out of input,\n",
        "    # yield it.\n",
        "    if voiced_frames:\n",
        "        yield b''.join([f for f in voiced_frames])\n",
        "        print('blah2')\n",
        "    print(\"blah3\")\n",
        "    return f"
      ],
      "metadata": {
        "id": "zSwk70XZazZZ"
      },
      "execution_count": null,
      "outputs": []
    },
    {
      "cell_type": "markdown",
      "source": [
        "Segmentation"
      ],
      "metadata": {
        "id": "IQ4VOyiA_2eG"
      }
    },
    {
      "cell_type": "code",
      "source": [
        "sample_rate,signal = read_audiofile('/content/Record.wav')\n",
        "plt.plot(signal)"
      ],
      "metadata": {
        "id": "T0HvSAYJNgK-",
        "colab": {
          "base_uri": "https://localhost:8080/",
          "height": 300
        },
        "outputId": "66766c53-4b6d-4cb2-bec5-26a400dc0b9e"
      },
      "execution_count": null,
      "outputs": [
        {
          "output_type": "execute_result",
          "data": {
            "text/plain": [
              "[<matplotlib.lines.Line2D at 0x7fd47431f190>,\n",
              " <matplotlib.lines.Line2D at 0x7fd47431f3d0>]"
            ]
          },
          "metadata": {},
          "execution_count": 41
        },
        {
          "output_type": "display_data",
          "data": {
            "image/png": "[encoded data removed]",
            "text/plain": [
              "<Figure size 432x288 with 1 Axes>"
            ]
          },
          "metadata": {
            "needs_background": "light"
          }
        }
      ]
    },
    {
      "cell_type": "code",
      "source": [
        "signal = signal_emphasis(signal)\n",
        "plt.plot(signal)"
      ],
      "metadata": {
        "colab": {
          "base_uri": "https://localhost:8080/",
          "height": 295
        },
        "id": "_Z8oinWhc-kx",
        "outputId": "e849ab8a-048e-4dbe-d935-c82eab6177fb"
      },
      "execution_count": null,
      "outputs": [
        {
          "output_type": "execute_result",
          "data": {
            "text/plain": [
              "[<matplotlib.lines.Line2D at 0x7fd47429b4d0>]"
            ]
          },
          "metadata": {},
          "execution_count": 42
        },
        {
          "output_type": "display_data",
          "data": {
            "image/png": "[encoded data removed]",
            "text/plain": [
              "<Figure size 432x288 with 1 Axes>"
            ]
          },
          "metadata": {
            "needs_background": "light"
          }
        }
      ]
    },
    {
      "cell_type": "code",
      "source": [
        "frames,indices = frame_generator(signal,0.02,0.01,sample_rate)\n",
        "plt.plot(indices[0],frames[0])\n",
        "plt.plot(indices[1],frames[1])\n",
        "plt.plot(indices[2],frames[2])\n",
        "plt.plot(indices[3],frames[3])\n",
        "plt.plot(indices[4],frames[4])\n",
        "plt.plot(indices[5],frames[5])\n",
        "plt.plot(indices[6],frames[6])"
      ],
      "metadata": {
        "colab": {
          "base_uri": "https://localhost:8080/",
          "height": 283
        },
        "id": "jvo46sngdQzw",
        "outputId": "c0cf5bc6-b76c-442c-832e-104311d84191"
      },
      "execution_count": null,
      "outputs": [
        {
          "output_type": "execute_result",
          "data": {
            "text/plain": [
              "[<matplotlib.lines.Line2D at 0x7fd474004b50>]"
            ]
          },
          "metadata": {},
          "execution_count": 54
        },
        {
          "output_type": "display_data",
          "data": {
            "image/png": "[encoded data removed]",
            "text/plain": [
              "<Figure size 432x288 with 1 Axes>"
            ]
          },
          "metadata": {
            "needs_background": "light"
          }
        }
      ]
    },
    {
      "cell_type": "code",
      "source": [
        "vad = webrtcvad.Vad()\n",
        "print(len(frames))\n",
        "frame2 = non_speech_removal(sample_rate,vad,frames,indices)\n",
        "# print(len(frame2))"
      ],
      "metadata": {
        "colab": {
          "base_uri": "https://localhost:8080/"
        },
        "id": "FJUQwEXWejP3",
        "outputId": "bd6bad5e-6ccb-4643-804e-9b372acc38f8"
      },
      "execution_count": null,
      "outputs": [
        {
          "output_type": "stream",
          "name": "stdout",
          "text": [
            "2531\n"
          ]
        }
      ]
    },
    {
      "cell_type": "code",
      "source": [
        "for i,some in enumerate(frame2):\n",
        "    print(i)"
      ],
      "metadata": {
        "id": "xalm1W-dk8Vf"
      },
      "execution_count": null,
      "outputs": []
    },
    {
      "cell_type": "markdown",
      "source": [
        "# SAD"
      ],
      "metadata": {
        "id": "8UpDwXF1FzIp"
      }
    },
    {
      "cell_type": "code",
      "source": [
        "# !pip install webrtcvad\n",
        "# import webrtcvad\n",
        "# vad = webrtcvad.Vad()\n",
        "# vad.set_mode(3)\n",
        "# not_voice = 0\n",
        "# voice = 0\n",
        "# for frame  in frames:\n",
        "#     fr = np.int16(frame).tobytes()\n",
        "#     # print(vad.is_speech(fr, sample_rate))\n",
        "#     if vad.is_speech(fr, sample_rate):\n",
        "#         plt.plot(fr)\n",
        "#         not_voice +=1\n",
        "#     else:\n",
        "#         voice+=1\n",
        "# print(\"non-voice \",end=\" \")\n",
        "# print(not_voice)\n",
        "# print(\"voice \",end=\" \")\n",
        "# print(voice)"
      ],
      "metadata": {
        "id": "4IdRW3biFyiQ"
      },
      "execution_count": null,
      "outputs": []
    },
    {
      "cell_type": "code",
      "source": [
        "plt.plot(signal)"
      ],
      "metadata": {
        "colab": {
          "base_uri": "https://localhost:8080/",
          "height": 300
        },
        "id": "KpwZkVzqL4v1",
        "outputId": "bc94ef40-0599-4633-f70e-275480bee0ca"
      },
      "execution_count": null,
      "outputs": [
        {
          "output_type": "execute_result",
          "data": {
            "text/plain": [
              "[<matplotlib.lines.Line2D at 0x7fd480d91b90>,\n",
              " <matplotlib.lines.Line2D at 0x7fd480d91e10>]"
            ]
          },
          "metadata": {},
          "execution_count": 13
        },
        {
          "output_type": "display_data",
          "data": {
            "image/png": "[encoded data removed]",
            "text/plain": [
              "<Figure size 432x288 with 1 Axes>"
            ]
          },
          "metadata": {
            "needs_background": "light"
          }
        }
      ]
    },
    {
      "cell_type": "markdown",
      "source": [
        "Hamming Window"
      ],
      "metadata": {
        "id": "dG47cTPpAKT1"
      }
    },
    {
      "cell_type": "code",
      "source": [
        "frames *= np.hamming(frame_length)"
      ],
      "metadata": {
        "id": "B0eQhUih_W26"
      },
      "execution_count": null,
      "outputs": []
    },
    {
      "cell_type": "markdown",
      "source": [
        "Power Spectrum"
      ],
      "metadata": {
        "id": "VJDdYcF-Afgy"
      }
    },
    {
      "cell_type": "code",
      "source": [
        "NFFT = 512\n",
        "mag_frames = np.absolute(np.fft.rfft(frames, NFFT))  # Magnitude of the FFT\n",
        "pow_frames = ((1.0 / NFFT) * ((mag_frames) ** 2))"
      ],
      "metadata": {
        "id": "5H_NbualAIR8"
      },
      "execution_count": null,
      "outputs": []
    },
    {
      "cell_type": "markdown",
      "source": [
        "Filter Banks"
      ],
      "metadata": {
        "id": "8EClvSStAj2S"
      }
    },
    {
      "cell_type": "code",
      "source": [
        "nfilt = 40\n",
        "low_freq_mel = 0\n",
        "high_freq_mel = (2595 * np.log10(1 + (sample_rate / 2) / 700))  # Convert Hz to Mel\n",
        "mel_points = np.linspace(low_freq_mel, high_freq_mel, nfilt + 2)  # Equally spaced in Mel scale\n",
        "hz_points = (700 * (10**(mel_points / 2595) - 1))  # Convert Mel to Hz\n",
        "bin = np.floor((NFFT + 1) * hz_points / sample_rate)\n",
        "\n",
        "fbank = np.zeros((nfilt, int(np.floor(NFFT / 2 + 1))))\n",
        "for m in range(1, nfilt + 1):\n",
        "    f_m_minus = int(bin[m - 1])   # left\n",
        "    f_m = int(bin[m])             # center\n",
        "    f_m_plus = int(bin[m + 1])    # right\n",
        "\n",
        "    for k in range(f_m_minus, f_m):\n",
        "        fbank[m - 1, k] = (k - bin[m - 1]) / (bin[m] - bin[m - 1])\n",
        "    for k in range(f_m, f_m_plus):\n",
        "        fbank[m - 1, k] = (bin[m + 1] - k) / (bin[m + 1] - bin[m])\n",
        "# plt.plot(fbank[:5])\n",
        "filter_banks = np.dot(pow_frames, fbank.T)\n",
        "filter_banks = np.where(filter_banks == 0, np.finfo(float).eps, filter_banks)  # Numerical Stability\n",
        "\n",
        "filter_banks = 20 * np.log10(filter_banks)\n"
      ],
      "metadata": {
        "id": "eNKpBWDeAdUy"
      },
      "execution_count": null,
      "outputs": []
    },
    {
      "cell_type": "markdown",
      "source": [
        "MFCC"
      ],
      "metadata": {
        "id": "2bsIMrTmAsp9"
      }
    },
    {
      "cell_type": "code",
      "source": [
        "num_ceps = 12\n",
        "mfcc = dct(filter_banks, type=2, axis=1, norm='ortho')[:, 1 : (num_ceps + 1)] # Keep 2-13\n",
        "# plt.specgram(mfcc[0],Fs=sample_rate)\n",
        "# plt.imshow(mfcc,extent=[0,4.2,0,48000], cmap='jet',\n",
        "#            vmin=0, vmax=12, origin='lowest', aspect='auto')\n",
        "# plt.colorbar()\n",
        "# plt.show()"
      ],
      "metadata": {
        "id": "J04ta8MjD2Eo"
      },
      "execution_count": null,
      "outputs": []
    },
    {
      "cell_type": "code",
      "source": [
        "! pip install git+https://github.com/amsehili/auditok\n",
        "import auditok"
      ],
      "metadata": {
        "colab": {
          "base_uri": "https://localhost:8080/"
        },
        "id": "-Cakrodxah4M",
        "outputId": "9fd78bfb-8d98-40ad-b9b5-d52ff85fbec7"
      },
      "execution_count": null,
      "outputs": [
        {
          "output_type": "stream",
          "name": "stdout",
          "text": [
            "Collecting git+https://github.com/amsehili/auditok\n",
            "  Cloning https://github.com/amsehili/auditok to /tmp/pip-req-build-e5kpbf7g\n",
            "  Running command git clone -q https://github.com/amsehili/auditok /tmp/pip-req-build-e5kpbf7g\n",
            "  Installing build dependencies ... \u001b[?25l\u001b[?25hdone\n",
            "  Getting requirements to build wheel ... \u001b[?25l\u001b[?25hdone\n",
            "    Preparing wheel metadata ... \u001b[?25l\u001b[?25hdone\n",
            "Building wheels for collected packages: auditok\n",
            "  Building wheel for auditok (PEP 517) ... \u001b[?25l\u001b[?25hdone\n",
            "  Created wheel for auditok: filename=auditok-0.2.0-py3-none-any.whl size=1491680 sha256=842a2aaf7b17196318496944177127059399ab0582e2910a33db01e52325e732\n",
            "  Stored in directory: /tmp/pip-ephem-wheel-cache-pmxzepxd/wheels/b9/59/0f/835224f55438618ce18ecdd3ef885cd88dbb44c9d57daf9071\n",
            "Successfully built auditok\n",
            "Installing collected packages: auditok\n",
            "Successfully installed auditok-0.2.0\n"
          ]
        }
      ]
    },
    {
      "cell_type": "code",
      "source": [
        "\n",
        "audio_regions = auditok.split(\n",
        "    \"Record.wav\",\n",
        "    min_dur=0.02,     # minimum duration of a valid audio event in seconds\n",
        "    max_dur=0.1,       # maximum duration of an event\n",
        "    max_silence=0.05, # maximum duration of tolerated continuous silence within an event\n",
        "    energy_threshold=44 # threshold of detection\n",
        ")\n",
        "# audio_regions.splitp()\n",
        "# print(audio_regions)\n",
        "l = []\n",
        "for i, r in enumerate(audio_regions):\n",
        "\n",
        "    # Regions returned by `split` have 'start' and 'end' metadata fields\n",
        "    # print(\"Region {i}: {r.meta.start:.3f}s -- {r.meta.end:.3f}s\".format(i=i, r=r))\n",
        "    l.append([int(r.meta.start*sample_rate),int(r.meta.end*sample_rate)])\n",
        "\n",
        "    # play detection\n",
        "    # r.play(progress_bar=True)\n",
        "\n",
        "    # region's metadata can also be used with the `save` method\n",
        "    # (no need to explicitly specify region's object and `format` arguments)\n",
        "    # filename = r.save(\"region_{meta.start:.3f}-{meta.end:.3f}.wav\")\n",
        "    # print(\"region saved as: {}\".format(filename))"
      ],
      "metadata": {
        "id": "z9-4hQPtSPk8"
      },
      "execution_count": null,
      "outputs": []
    },
    {
      "cell_type": "code",
      "source": [
        "vocal_signal = [[0,0]]*len(signal)\n",
        "for v in l:\n",
        "    vocal_signal[v[0]:v[1]] = signal[v[0]:v[1]]\n",
        "\n",
        "plt.plot(signal,'o')\n",
        "plt.plot(vocal_signal,'b')"
      ],
      "metadata": {
        "colab": {
          "base_uri": "https://localhost:8080/",
          "height": 300
        },
        "id": "iL7D7tZRZukj",
        "outputId": "7af686c3-f2a4-4186-8230-210303abe6bd"
      },
      "execution_count": null,
      "outputs": [
        {
          "output_type": "execute_result",
          "data": {
            "text/plain": [
              "[<matplotlib.lines.Line2D at 0x7fd47c9d2410>,\n",
              " <matplotlib.lines.Line2D at 0x7fd47c9d2610>]"
            ]
          },
          "metadata": {},
          "execution_count": 20
        },
        {
          "output_type": "display_data",
          "data": {
            "image/png": "[encoded data removed]",
            "text/plain": [
              "<Figure size 432x288 with 1 Axes>"
            ]
          },
          "metadata": {
            "needs_background": "light"
          }
        }
      ]
    },
    {
      "cell_type": "code",
      "source": [
        "\n"
      ],
      "metadata": {
        "colab": {
          "base_uri": "https://localhost:8080/"
        },
        "id": "rL2N7gcaNyWJ",
        "outputId": "e41d8487-fbdb-4677-de74-58dc19f2ec94"
      },
      "execution_count": null,
      "outputs": [
        {
          "output_type": "stream",
          "name": "stdout",
          "text": [
            "Collecting webrtcvad\n",
            "  Downloading webrtcvad-2.0.10.tar.gz (66 kB)\n",
            "\u001b[?25l\r\u001b[K     |█████                           | 10 kB 20.4 MB/s eta 0:00:01\r\u001b[K     |██████████                      | 20 kB 12.8 MB/s eta 0:00:01\r\u001b[K     |██████████████▉                 | 30 kB 9.7 MB/s eta 0:00:01\r\u001b[K     |███████████████████▉            | 40 kB 8.7 MB/s eta 0:00:01\r\u001b[K     |████████████████████████▊       | 51 kB 4.5 MB/s eta 0:00:01\r\u001b[K     |█████████████████████████████▊  | 61 kB 5.2 MB/s eta 0:00:01\r\u001b[K     |████████████████████████████████| 66 kB 2.6 MB/s \n",
            "\u001b[?25hBuilding wheels for collected packages: webrtcvad\n",
            "  Building wheel for webrtcvad (setup.py) ... \u001b[?25l\u001b[?25hdone\n",
            "  Created wheel for webrtcvad: filename=webrtcvad-2.0.10-cp37-cp37m-linux_x86_64.whl size=72290 sha256=b63fb6ecc3f6f444224c627968400ac6d88bd775739c9a63b3f2bbb7c6d662a5\n",
            "  Stored in directory: /root/.cache/pip/wheels/11/f9/67/a3158d131f57e1c0a7d8d966a707d4a2fb27567a4fe47723ad\n",
            "Successfully built webrtcvad\n",
            "Installing collected packages: webrtcvad\n",
            "Successfully installed webrtcvad-2.0.10\n"
          ]
        }
      ]
    },
    {
      "cell_type": "code",
      "source": [
        "# audio, sample_rate = scipy.io.wavfile.read('/content/Record.wav')\n",
        "# vad = webrtcvad.Vad(mode=1)\n",
        "# frames = frame_generator(30, audio, sample_rate)\n",
        "# frames = list(frames)\n",
        "# segments = vad_collector(sample_rate, 30, 300, vad, frames)\n",
        "# for i, segment in enumerate(segments):\n",
        "#     # path = 'chunk-%002d.wav' % (i,)\n",
        "#     print(' Writing %s' % (path,))\n",
        "#     # write_wave(path, segment, sample_rate)"
      ],
      "metadata": {
        "colab": {
          "base_uri": "https://localhost:8080/",
          "height": 234
        },
        "id": "iKVLqeBYN8r-",
        "outputId": "167b7f86-e3e1-46ee-870f-ccdffd7dfdb5"
      },
      "execution_count": null,
      "outputs": [
        {
          "output_type": "error",
          "ename": "NameError",
          "evalue": "ignored",
          "traceback": [
            "\u001b[0;31m---------------------------------------------------------------------------\u001b[0m",
            "\u001b[0;31mNameError\u001b[0m                                 Traceback (most recent call last)",
            "\u001b[0;32m<ipython-input-33-d1015947d74a>\u001b[0m in \u001b[0;36m<module>\u001b[0;34m()\u001b[0m\n\u001b[0;32m----> 1\u001b[0;31m \u001b[0maudio\u001b[0m\u001b[0;34m,\u001b[0m \u001b[0msample_rate\u001b[0m \u001b[0;34m=\u001b[0m \u001b[0mread_wave\u001b[0m\u001b[0;34m(\u001b[0m\u001b[0;34m'/content/Record.wav'\u001b[0m\u001b[0;34m)\u001b[0m\u001b[0;34m\u001b[0m\u001b[0;34m\u001b[0m\u001b[0m\n\u001b[0m\u001b[1;32m      2\u001b[0m \u001b[0mvad\u001b[0m \u001b[0;34m=\u001b[0m \u001b[0mwebrtcvad\u001b[0m\u001b[0;34m.\u001b[0m\u001b[0mVad\u001b[0m\u001b[0;34m(\u001b[0m\u001b[0mmode\u001b[0m\u001b[0;34m=\u001b[0m\u001b[0;36m1\u001b[0m\u001b[0;34m)\u001b[0m\u001b[0;34m\u001b[0m\u001b[0;34m\u001b[0m\u001b[0m\n\u001b[1;32m      3\u001b[0m \u001b[0mframes\u001b[0m \u001b[0;34m=\u001b[0m \u001b[0mframe_generator\u001b[0m\u001b[0;34m(\u001b[0m\u001b[0;36m30\u001b[0m\u001b[0;34m,\u001b[0m \u001b[0maudio\u001b[0m\u001b[0;34m,\u001b[0m \u001b[0msample_rate\u001b[0m\u001b[0;34m)\u001b[0m\u001b[0;34m\u001b[0m\u001b[0;34m\u001b[0m\u001b[0m\n\u001b[1;32m      4\u001b[0m \u001b[0mframes\u001b[0m \u001b[0;34m=\u001b[0m \u001b[0mlist\u001b[0m\u001b[0;34m(\u001b[0m\u001b[0mframes\u001b[0m\u001b[0;34m)\u001b[0m\u001b[0;34m\u001b[0m\u001b[0;34m\u001b[0m\u001b[0m\n\u001b[1;32m      5\u001b[0m \u001b[0msegments\u001b[0m \u001b[0;34m=\u001b[0m \u001b[0mvad_collector\u001b[0m\u001b[0;34m(\u001b[0m\u001b[0msample_rate\u001b[0m\u001b[0;34m,\u001b[0m \u001b[0;36m30\u001b[0m\u001b[0;34m,\u001b[0m \u001b[0;36m300\u001b[0m\u001b[0;34m,\u001b[0m \u001b[0mvad\u001b[0m\u001b[0;34m,\u001b[0m \u001b[0mframes\u001b[0m\u001b[0;34m)\u001b[0m\u001b[0;34m\u001b[0m\u001b[0;34m\u001b[0m\u001b[0m\n",
            "\u001b[0;31mNameError\u001b[0m: name 'read_wave' is not defined"
          ]
        }
      ]
    }
  ]
}